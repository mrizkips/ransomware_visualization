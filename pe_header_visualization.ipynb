{
 "cells": [
  {
   "cell_type": "markdown",
   "metadata": {},
   "source": [
    "## Import library"
   ]
  },
  {
   "cell_type": "code",
   "execution_count": 1,
   "metadata": {},
   "outputs": [],
   "source": [
    "import pandas as pd\n",
    "import os\n",
    "import matplotlib.pyplot as plt\n",
    "import seaborn as sns\n",
    "from sklearn.preprocessing import MinMaxScaler"
   ]
  },
  {
   "cell_type": "markdown",
   "metadata": {},
   "source": [
    "## Read dataset"
   ]
  },
  {
   "cell_type": "code",
   "execution_count": null,
   "metadata": {},
   "outputs": [],
   "source": [
    "dataset = pd.read_csv(\"./Ransomware_headers.csv\")\n",
    "display(dataset)"
   ]
  },
  {
   "cell_type": "markdown",
   "metadata": {},
   "source": [
    "## Filter dataset and assign to rans_df and benign_df in a single statement"
   ]
  },
  {
   "cell_type": "code",
   "execution_count": null,
   "metadata": {},
   "outputs": [],
   "source": [
    "rans_df, benign_df = (dataset[dataset[\"GR\"] > 0], dataset[dataset[\"GR\"] == 0])\n",
    "\n",
    "# Display to verify results\n",
    "rans_df.shape, benign_df.shape"
   ]
  },
  {
   "cell_type": "code",
   "execution_count": null,
   "metadata": {},
   "outputs": [],
   "source": [
    "class_index = {\n",
    "    1: 'Avaddon',\n",
    "    2: 'Babuk',\n",
    "    3: 'Blackmatter',\n",
    "    4: 'Conti',\n",
    "    5: 'Darkside',\n",
    "    6: 'Dharma',\n",
    "    7: 'Doppelpaymer',\n",
    "    8: 'Exorcist',\n",
    "    9: 'Gandcrab',\n",
    "    10: 'Lockbit',\n",
    "    11: 'Makop',\n",
    "    12: 'Maze',\n",
    "    13: 'Mountlocker',\n",
    "    14: 'Nefilim',\n",
    "    15: 'Netwalker',\n",
    "    16: 'Phobos',\n",
    "    17: 'Pysa',\n",
    "    18: 'Ragnarok',\n",
    "    19: 'RansomeXX',\n",
    "    20: 'Revil',\n",
    "    21: 'Ryuk',\n",
    "    22: 'Stop',\n",
    "    23: 'Thanos',\n",
    "    24: 'Wastedlocker',\n",
    "    25: 'Zeppelin',\n",
    "}\n",
    "\n",
    "# Get the unique family values\n",
    "unique_families = dataset[\"family\"].unique()\n",
    "print(f\"Unique families: {unique_families}\")\n",
    "print(f\"Total number of unique families: {len(unique_families)}\")"
   ]
  },
  {
   "cell_type": "markdown",
   "metadata": {},
   "source": [
    "## Convert columns 0 to 1024 as a features"
   ]
  },
  {
   "cell_type": "code",
   "execution_count": null,
   "metadata": {},
   "outputs": [],
   "source": [
    "rans_features = rans_df.iloc[:, 4:]\n",
    "benign_features = benign_df.iloc[:, 4:]\n",
    "\n",
    "rans_features.head(), benign_features.head()"
   ]
  },
  {
   "cell_type": "markdown",
   "metadata": {},
   "source": [
    "## Normalize features to the range [0, 1]"
   ]
  },
  {
   "cell_type": "code",
   "execution_count": null,
   "metadata": {},
   "outputs": [],
   "source": [
    "rans_norm = rans_features.apply(lambda x: x / 255.0)\n",
    "benign_norm = benign_features.apply(lambda x: x / 255.0)\n",
    "\n",
    "print(rans_norm, benign_norm)"
   ]
  },
  {
   "cell_type": "markdown",
   "metadata": {},
   "source": [
    "## Normalize features to the range [0, 1] using MixMaxScaler"
   ]
  },
  {
   "cell_type": "code",
   "execution_count": null,
   "metadata": {},
   "outputs": [],
   "source": [
    "scaler = MinMaxScaler(feature_range=(0,1))\n",
    "\n",
    "rans_normalized = scaler.fit_transform(rans_features)\n",
    "benign_normalized = scaler.fit_transform(benign_features)\n",
    "\n",
    "rans_features_normalized = pd.DataFrame(rans_normalized, columns=rans_features.columns)\n",
    "benign_features_normalized = pd.DataFrame(benign_normalized, columns=benign_features.columns)\n",
    "\n",
    "print(rans_features_normalized, benign_features_normalized)"
   ]
  },
  {
   "cell_type": "markdown",
   "metadata": {},
   "source": [
    "## Convert each row into a 2D array of 32x32"
   ]
  },
  {
   "cell_type": "code",
   "execution_count": null,
   "metadata": {},
   "outputs": [],
   "source": [
    "rans_feature_2d = rans_norm.apply(lambda x: x.values.reshape(32, 32), axis=1)\n",
    "benign_feature_2d = benign_norm.apply(lambda x: x.values.reshape(32, 32), axis=1)\n",
    "\n",
    "rans_feature_normalized_2d = rans_features_normalized.apply(lambda x: x.values.reshape(32, 32), axis=1)\n",
    "benign_feature_normalized_2d = benign_features_normalized.apply(lambda x: x.values.reshape(32, 32), axis=1)\n",
    "\n",
    "rans_feature_2d.head(), benign_feature_2d.head(), rans_feature_normalized_2d.head(), benign_feature_normalized_2d.head()"
   ]
  },
  {
   "cell_type": "code",
   "execution_count": null,
   "metadata": {},
   "outputs": [],
   "source": [
    "def plot_heatmap(feature_2d, title):\n",
    "    plt.figure(figsize=(8, 8))\n",
    "    sns.heatmap(feature_2d, cmap=\"Spectral_r\", vmin=0, vmax=1, cbar=True)\n",
    "    plt.title(title)\n",
    "    plt.show()\n",
    "    \n",
    "plot_heatmap(rans_feature_2d.iloc[0], title=\"Ransomware sample heatmap\")"
   ]
  },
  {
   "cell_type": "code",
   "execution_count": null,
   "metadata": {},
   "outputs": [],
   "source": [
    "def plot_heatmap(feature_2d, title):\n",
    "    plt.figure(figsize=(8, 8))\n",
    "    sns.heatmap(feature_2d, cmap=\"Spectral_r\", vmin=0, vmax=1, cbar=True)\n",
    "    plt.title(title)\n",
    "    plt.show()\n",
    "    \n",
    "plot_heatmap(rans_feature_normalized_2d.iloc[0], title=\"Ransomware sample heatmap\")"
   ]
  },
  {
   "cell_type": "markdown",
   "metadata": {},
   "source": [
    "# Function to plot and save a heatmap for a single 2D vector"
   ]
  },
  {
   "cell_type": "code",
   "execution_count": null,
   "metadata": {},
   "outputs": [],
   "source": [
    "rans_processed = rans_df[['filename', 'GR', 'family']]\n",
    "benign_processed = benign_df[['filename', 'GR', 'family']]\n",
    "\n",
    "def plot_and_save_heatmap(feature_2d, filename, save_dir, img_size=(333, 333)):\n",
    "    # Create directory if it doesn't exist\n",
    "    os.makedirs(save_dir, exist_ok=True)\n",
    "\n",
    "    # Set the desired figure size based on img_size and dpir\n",
    "    dpi = 100  # Set dpi for high-quality image\n",
    "    figsize = (img_size[0] / dpi, img_size[1] / dpi)  # Calculate figsize in inches\n",
    "\n",
    "    # Plot the heatmap\n",
    "    plt.figure(figsize=figsize)\n",
    "    sns.heatmap(feature_2d, cmap=\"Spectral_r\", vmin=0, vmax=1, cbar=False, square=True, xticklabels=False, yticklabels=False)\n",
    "\n",
    "    # Save the figure to the specified directory with the given filename\n",
    "    filepath = os.path.join(save_dir, f\"{filename}.png\")\n",
    "    plt.savefig(filepath, dpi=100, bbox_inches='tight', pad_inches=0)  # Save with specified dpi\n",
    "    plt.close()  # Close the plot to free memory\n",
    "\n",
    "    print(f\"Saved heatmap as {filepath}\")\n",
    "    return filepath\n",
    "\n",
    "rans_images_path = []\n",
    "for i in range(0, rans_feature_2d.size):\n",
    "    filepath = plot_and_save_heatmap(rans_feature_2d.iloc[i], filename=rans_df.iloc[i][\"filename\"], save_dir=\"ransomware_images\")\n",
    "    rans_images_path.append(filepath)\n",
    "    \n",
    "benign_images_path = []\n",
    "for i in range(0, benign_feature_2d.size):\n",
    "    filepath = plot_and_save_heatmap(benign_feature_2d.iloc[i], filename=benign_df.iloc[i][\"filename\"], save_dir=\"benign_images\")\n",
    "    benign_images_path.append(filepath)\n",
    "    \n",
    "rans_processed['images_path'] = rans_images_path\n",
    "benign_processed['images_path'] = benign_images_path"
   ]
  },
  {
   "cell_type": "code",
   "execution_count": null,
   "metadata": {},
   "outputs": [],
   "source": [
    "rans_processed.isnull().sum()"
   ]
  },
  {
   "cell_type": "markdown",
   "metadata": {},
   "source": [
    "## Make training and validation folders for split the data"
   ]
  },
  {
   "cell_type": "code",
   "execution_count": null,
   "metadata": {},
   "outputs": [],
   "source": [
    "from sklearn.model_selection import train_test_split\n",
    "\n",
    "train_rans, val_rans = train_test_split(rans_processed, test_size=0.2, random_state=42, stratify=rans_processed['family'])\n",
    "train_benign, val_benign = train_test_split(benign_processed, test_size=0.2, random_state=42)\n",
    "\n",
    "print(train_rans.shape, val_rans.shape, train_benign.shape, val_benign.shape)"
   ]
  },
  {
   "cell_type": "code",
   "execution_count": 14,
   "metadata": {},
   "outputs": [],
   "source": [
    "import numpy as np\n",
    "\n",
    "base_train_dir = 'data/train'\n",
    "base_val_dir = 'data/validation'\n",
    "\n",
    "unique_families = np.unique(np.concatenate((train_benign['family'].unique(), train_rans['family'].unique())))\n",
    "\n",
    "for family in unique_families:\n",
    "    os.makedirs(os.path.join(base_train_dir, str(family)), exist_ok=True)\n",
    "    os.makedirs(os.path.join(base_val_dir, str(family)), exist_ok=True)"
   ]
  },
  {
   "cell_type": "code",
   "execution_count": null,
   "metadata": {},
   "outputs": [],
   "source": [
    "import shutil\n",
    "\n",
    "def move_files(dataframe, base_dir):\n",
    "    for _, row in dataframe.iterrows():\n",
    "        print(row)\n",
    "        source_path = row['images_path']  # Path to the image file\n",
    "        family = row['family']            # Family (subfolder name)\n",
    "        \n",
    "        # Construct the destination path\n",
    "        dest_path = os.path.join(base_dir, str(family), os.path.basename(source_path))\n",
    "        \n",
    "        # Move file to the destination\n",
    "        shutil.move(source_path, dest_path)\n",
    "        \n",
    "move_files(train_benign, base_train_dir)\n",
    "move_files(val_benign, base_val_dir)\n",
    "\n",
    "move_files(train_rans, base_train_dir)\n",
    "move_files(val_rans, base_val_dir)"
   ]
  },
  {
   "cell_type": "code",
   "execution_count": null,
   "metadata": {},
   "outputs": [],
   "source": [
    "import tensorflow as tf\n",
    "from tensorflow.keras.models import Sequential\n",
    "from tensorflow.keras.layers import Conv2D, MaxPooling2D, Flatten, Dense, BatchNormalization, Dropout\n",
    "from tensorflow.keras.preprocessing.image import ImageDataGenerator\n",
    "\n",
    "model = Sequential([\n",
    "    BatchNormalization(input_shape=(256,256,3)),\n",
    "\n",
    "    Conv2D(64, (3, 3), activation='relu', padding='valid'),\n",
    "\n",
    "    MaxPooling2D(pool_size=(2, 2)),\n",
    "\n",
    "    Dropout(0.3),\n",
    "\n",
    "    Conv2D(128, (3, 3), activation='relu', padding='valid'),\n",
    "\n",
    "    MaxPooling2D(pool_size=(2, 2)),\n",
    "\n",
    "    Flatten(),\n",
    "\n",
    "    Dropout(0.5),\n",
    "\n",
    "    Dense(16, activation='relu'),\n",
    "\n",
    "    BatchNormalization(),\n",
    "\n",
    "    Dense(26, activation='softmax')\n",
    "])\n",
    "\n",
    "model.compile(\n",
    "    optimizer=\"adam\",\n",
    "    loss=\"categorical_crossentropy\",\n",
    "    metrics=['accuracy']\n",
    ")\n",
    "\n",
    "model.summary()"
   ]
  },
  {
   "cell_type": "code",
   "execution_count": null,
   "metadata": {},
   "outputs": [],
   "source": [
    "train_datagen = ImageDataGenerator(\n",
    "    rescale=1.0 / 255,\n",
    "    rotation_range=20,\n",
    "    width_shift_range=0.2,\n",
    "    height_shift_range=0.2,\n",
    "    shear_range=0.2,\n",
    "    zoom_range=0.2,\n",
    "    horizontal_flip=True,\n",
    "    fill_mode='nearest'\n",
    ")\n",
    "\n",
    "validation_datagen = ImageDataGenerator(\n",
    "    rescale=1.0 / 255\n",
    ")\n",
    "\n",
    "train_generator = train_datagen.flow_from_directory(\n",
    "    'data/train',\n",
    "    target_size=(256, 256),\n",
    "    batch_size=32,             # Adjust batch size as needed\n",
    "    class_mode='categorical'    # Use 'categorical' for multi-class classification\n",
    ")\n",
    "\n",
    "# Load validation data from directory\n",
    "validation_generator = validation_datagen.flow_from_directory(\n",
    "    'data/validation',         # Path to the validation data directory\n",
    "    target_size=(256, 256),    # Resize images to 256x256\n",
    "    batch_size=32,\n",
    "    class_mode='categorical'    # Use 'categorical' for multi-class classification\n",
    ")"
   ]
  },
  {
   "cell_type": "code",
   "execution_count": null,
   "metadata": {},
   "outputs": [],
   "source": [
    "history = model.fit(\n",
    "    train_generator,\n",
    "    steps_per_epoch=train_generator.samples // train_generator.batch_size,\n",
    "    epochs=10,  # Adjust epochs based on performance\n",
    "    validation_data=validation_generator,\n",
    "    validation_steps=validation_generator.samples // validation_generator.batch_size,\n",
    ")"
   ]
  }
 ],
 "metadata": {
  "kernelspec": {
   "display_name": "base",
   "language": "python",
   "name": "python3"
  },
  "language_info": {
   "codemirror_mode": {
    "name": "ipython",
    "version": 3
   },
   "file_extension": ".py",
   "mimetype": "text/x-python",
   "name": "python",
   "nbconvert_exporter": "python",
   "pygments_lexer": "ipython3",
   "version": "3.9.13"
  }
 },
 "nbformat": 4,
 "nbformat_minor": 2
}
