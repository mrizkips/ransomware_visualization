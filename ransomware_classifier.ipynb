{
 "cells": [
  {
   "cell_type": "code",
   "execution_count": null,
   "metadata": {},
   "outputs": [],
   "source": [
    "import tensorflow as tf\n",
    "from tensorflow.keras.models import Sequential\n",
    "from tensorflow.keras.layers import BatchNormalization, Conv2D, MaxPooling2D, Dropout, Flatten, Dense\n",
    "\n",
    "# Define CNN model\n",
    "model = Sequential([\n",
    "    BatchNormalization(input_shape=(256,256,3)),\n",
    "\n",
    "    Conv2D(64, (3, 3), activation='relu', padding='valid'),\n",
    "\n",
    "    MaxPooling2D(pool_size=(2, 2)),\n",
    "\n",
    "    Dropout(0.3),\n",
    "\n",
    "    Conv2D(128, (3, 3), activation='relu', padding='valid'),\n",
    "\n",
    "    MaxPooling2D(pool_size=(2, 2)),\n",
    "\n",
    "    Flatten(),\n",
    "\n",
    "    Dropout(0.5),\n",
    "\n",
    "    Dense(16, activation='relu'),\n",
    "\n",
    "    BatchNormalization(),\n",
    "\n",
    "    Dense(2, activation='softmax')\n",
    "])\n",
    "\n",
    "model.compile(\n",
    "    optimizer=\"adam\",\n",
    "    loss=\"sparse_categorical_crossentropy\",\n",
    "    metrics=['accuracy']\n",
    ")\n",
    "\n",
    "model.summary()"
   ]
  },
  {
   "cell_type": "code",
   "execution_count": null,
   "metadata": {},
   "outputs": [],
   "source": [
    "model = Sequential()\n",
    "#Conv2D Layers\n",
    "model.add(Conv2D(12, (25, 25), padding='same',input_shape=(256, 256, 3), activation = 'relu'))\n",
    "model.add(Conv2D(12, (25, 25), activation = 'relu'))\n",
    "#Max Pooling Layer\n",
    "model.add(MaxPooling2D(pool_size=(2, 2)))\n",
    "#Conv2D Layer\n",
    "model.add(Conv2D(12, (13, 13), padding='same', activation = 'relu'))\n",
    "model.add(Conv2D(12, (13, 13), activation = 'relu'))\n",
    "#Max Pooling\n",
    "model.add(MaxPooling2D(pool_size=(2, 2)))\n",
    "#Flattening Layer\n",
    "model.add(Flatten())\n",
    "#Dense Layer\n",
    "model.add(Dense(1024, activation = 'relu'))\n",
    "model.add(Dense(1, activation = 'softmax'))\n",
    "\n",
    "model.compile(loss='binary_crossentropy',\n",
    "              optimizer='adam',\n",
    "              metrics=['binary_accuracy'])\n",
    "\n",
    "model.summary()"
   ]
  }
 ],
 "metadata": {
  "kernelspec": {
   "display_name": "base",
   "language": "python",
   "name": "python3"
  },
  "language_info": {
   "codemirror_mode": {
    "name": "ipython",
    "version": 3
   },
   "file_extension": ".py",
   "mimetype": "text/x-python",
   "name": "python",
   "nbconvert_exporter": "python",
   "pygments_lexer": "ipython3",
   "version": "3.9.13"
  }
 },
 "nbformat": 4,
 "nbformat_minor": 2
}
